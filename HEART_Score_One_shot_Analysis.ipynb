{
 "cells": [
  {
   "cell_type": "markdown",
   "id": "ddafa92f",
   "metadata": {},
   "source": [
    "# HEART Score Subscore-based One-shot training Analysis\n",
    "\n",
    "\n",
    "Compared to the one-pass HEART score method, in which GPT-3.5-turbo is queried to retrieve all subscores at once and return each subscore and total score, this method aims to evaluate each subscore by giving the model an example of a previous method to understand what it is supposed to do (using one-shot learning). GPT will only be queried once to test each method independently."
   ]
  },
  {
   "cell_type": "code",
   "execution_count": 18,
   "id": "e1e21603",
   "metadata": {},
   "outputs": [],
   "source": [
    "import openai\n",
    "import os"
   ]
  },
  {
   "cell_type": "code",
   "execution_count": null,
   "id": "803d4a54",
   "metadata": {},
   "outputs": [],
   "source": [
    "from dotenv import load_dotenv\n",
    "\n",
    "load_dotenv()\n",
    "\n",
    "import os\n",
    "import openai\n",
    "openai.api_type = \"azure\"\n",
    "openai.api_version = \"2023-05-15\" \n",
    "openai.api_key = os.getenv(\"OLD_AZURE_OPENAI_KEY\")\n",
    "openai.api_base = os.getenv(\"AZURE_OPENAI_ENDPOINT\")\n",
    "deployment_name = \"decile-heart-score-gpt35-16k\"\n"
   ]
  },
  {
   "cell_type": "markdown",
   "id": "d7cedab7",
   "metadata": {},
   "source": [
    "# Test"
   ]
  },
  {
   "cell_type": "code",
   "execution_count": 20,
   "id": "1fd5d76b",
   "metadata": {},
   "outputs": [
    {
     "name": "stdout",
     "output_type": "stream",
     "text": [
      "Microsoft was founded by Bill Gates and Paul Allen. Bill Gates is widely known as one of the most prominent entrepreneurs and philanthropists of the computer age, while Paul Allen was a technologist and philanthropist who co-founded Microsoft alongside Gates.\n"
     ]
    }
   ],
   "source": [
    "\n",
    "deployment_name = \"decile-heart-score-gpt35-16k\"\n",
    "response = openai.ChatCompletion.create(\n",
    "    engine=deployment_name, # The deployment name you chose when you deployed the GPT-35-Turbo or GPT-4 model.\n",
    "    messages=[\n",
    "        {\"role\": \"system\", \"content\": \"Assistant is a large language model trained by OpenAI.\"},\n",
    "        {\"role\": \"user\", \"content\": \"Who were the founders of Microsoft?\"}\n",
    "    ]\n",
    ")\n",
    "\n",
    "# print(response)\n",
    "\n",
    "print(response['choices'][0]['message']['content'])"
   ]
  },
  {
   "cell_type": "markdown",
   "id": "49834f75",
   "metadata": {},
   "source": [
    "### Reading in all encounter notes from one pre-compiled txt document"
   ]
  },
  {
   "cell_type": "code",
   "execution_count": 21,
   "id": "18db83fa",
   "metadata": {},
   "outputs": [],
   "source": [
    "# Open the file in read mode\n",
    "with open('Test1doc.txt', 'r') as file:\n",
    "    # Read the contents of the file into a variable\n",
    "    file_contents = file.read()\n",
    "\n",
    "# Print the contents of the file\n",
    "# print(file_contents)"
   ]
  },
  {
   "cell_type": "code",
   "execution_count": 22,
   "id": "a5e8d13a",
   "metadata": {},
   "outputs": [],
   "source": [
    "def isolateString(ch1,ch2,s):\n",
    "    return s[s.find(ch1)+1:s.find(ch2)]"
   ]
  },
  {
   "cell_type": "markdown",
   "id": "8860ccd9",
   "metadata": {},
   "source": [
    "### Mode Analysis for History Subscore\n",
    "#### Repeated GPT Analysis of Note #1 for history subscore 10 times. Then, display mode of history subscore to ideally improve accuracy and precision of subscore.\n",
    "\n",
    "Based on all of the patient's notes below, and considering the patient's symptoms and past medical conditions, please choose between the following options to rate their history as: [Slightly suspicious (0)] [Moderately suspicious (1)] [Highly suspicious (2)] [Not enough information to determine History score (9)] Please provide your answer in brackets by choosing between the answers above (e.g. [Slightly suspicious (0)] ). No Prose.\n"
   ]
  },
  {
   "cell_type": "code",
   "execution_count": 23,
   "id": "78274ba1",
   "metadata": {},
   "outputs": [
    {
     "name": "stdout",
     "output_type": "stream",
     "text": [
      "Patient 1: [Moderately suspicious (1)]\n",
      "Patient 2: [Highly suspicious (2)]\n",
      "Patient 3: [Not enough information to determine History score (9)]\n",
      "Patient 4: [Moderately suspicious (1)]\n",
      "Patient 5: [Moderately suspicious (1)]\n",
      "[Slightly suspicious (0)]\n",
      "[Moderately suspicious (1)]\n",
      "Patient 1: [Moderately suspicious (1)]\n",
      "\n",
      "Patient 2: [Highly suspicious (2)]\n",
      "Patient 1: [Slightly suspicious (0)]\n",
      "\n",
      "Patient 2: [Highly suspicious (2)]\n",
      "Patient 1: [Moderately suspicious (1)]\n",
      "\n",
      "Patient 2: [Highly suspicious (2)]\n",
      "Patient 1: [Moderately suspicious (1)]\n",
      "Patient 2: [Highly suspicious (2)]\n",
      "Patient 1: [Moderately suspicious (1)]\n",
      "\n",
      "Patient 2: [Highly suspicious (2)]\n",
      "\n",
      "Patient 3: [Not enough information to determine History score (9)]\n",
      "\n",
      "Patient 4: [Moderately suspicious (1)]\n",
      "1. [Not enough information to determine History score (9)]\n",
      "2. [Highly suspicious (2)]\n",
      "3. [Moderately suspicious (1)]\n",
      "4. [Moderately suspicious (1)]\n",
      "5. [Not enough information to determine History score (9)]\n"
     ]
    }
   ],
   "source": [
    "historyList = []\n",
    "prompt = \"Considering the patient's symptoms and past medical conditions, please choose between the following options to rate their history as: [Slightly suspicious (0)] [Moderately suspicious (1)] [Highly suspicious (2)] [Not enough information to determine History score (9)] Please provide your answer in brackets by choosing between the answers above (e.g. [Slightly suspicious (0)] ). No Prose. \\n\\n Patient 1: \\n\\n HPI: HTN pressure initiated by excercise. Non-smoker, last visit to urologist was last week, prior cysto. \\n\\n [Moderately suspicious (1)] \\n\\n Patient 2: \\n\\n\"\n",
    "for x in range(0, 9):\n",
    "    messages = [{\"role\": \"user\", \"content\": (prompt + file_contents)}]\n",
    "    response = openai.ChatCompletion.create(engine=deployment_name, messages=messages)\n",
    "    for i, choice in enumerate(response[\"choices\"], start=1):\n",
    "        phrase = choice[\"message\"][\"content\"]\n",
    "        for ch in phrase:\n",
    "            if ch.isnumeric():\n",
    "                historyList.append(ch)\n",
    "        print(choice[\"message\"][\"content\"])"
   ]
  },
  {
   "cell_type": "code",
   "execution_count": 24,
   "id": "99424c50",
   "metadata": {},
   "outputs": [
    {
     "name": "stdout",
     "output_type": "stream",
     "text": [
      "1\n"
     ]
    }
   ],
   "source": [
    "modeHistory = max(set(historyList), key=historyList.count)\n",
    "print(modeHistory)"
   ]
  },
  {
   "cell_type": "markdown",
   "id": "5324832b",
   "metadata": {},
   "source": [
    "### Mode Analysis for EKG Subscore\n",
    "#### Repeated GPT Analysis of Note #1 for EKG subscore 10 times. Then, display mode of EKG subscore to ideally improve accuracy and precision of subscore.\n",
    "\n",
    "Please consider the patient's EKG findings. Would you categorize it as: [Normal (0)] [Non-specific repolarization disturbance (1)] [Significant ST deviation (2)] [Not enough information to determine EKG score (9)] Additional information: 1 point: No ST deviation but LBBB, LVH, repolarization changes (e.g. digoxin); 2 points: ST deviation not due to LBBB, LVH, or digoxin. Please provide your choice between the answers above in brackets  (e.g. [Normal (0)] ). No Prose\n"
   ]
  },
  {
   "cell_type": "code",
   "execution_count": 25,
   "id": "17dc0425",
   "metadata": {},
   "outputs": [
    {
     "name": "stdout",
     "output_type": "stream",
     "text": [
      "[Normal (0)]\n",
      "[Non-specific repolarization disturbance (1)]\n",
      "[Normal (0)]\n",
      "[Non-specific repolarization disturbance (1)]\n",
      "[Non-specific repolarization disturbance (1)]\n",
      "[Non-specific repolarization disturbance (1)]\n",
      "[Non-specific repolarization disturbance (1)]\n",
      "[Non-specific repolarization disturbance (1)]\n",
      "[Non-specific repolarization disturbance (1)]\n",
      "Mode EKG: 1\n"
     ]
    }
   ],
   "source": [
    "ekgList = []\n",
    "prompt = '''Please consider the patient's EKG findings. Would you categorize it as: [Normal (0)] [Non-specific repolarization disturbance (1)] [Significant ST deviation (2)] [Not enough information to determine EKG score (9)] Additional information: 1 point: No ST deviation but LBBB, LVH, repolarization changes (e.g. digoxin); 2 points: ST deviation not due to LBBB, LVH, or digoxin. Please provide your choice between the answers above in brackets  (e.g. [Normal (0)] ). No Prose. \\n\\n \\n\\n Patient 1: \\n\\n Cardiology consulted, does not recommend troponin. no ST segment \\n\\n [Normal (0)] \\n\\n Patient 2: \\n\\n '''\n",
    "for x in range(0, 9):\n",
    "    messages = [{\"role\": \"user\", \"content\": (prompt + file_contents)}]\n",
    "    response = openai.ChatCompletion.create(engine=deployment_name, messages=messages)\n",
    "    for i, choice in enumerate(response[\"choices\"], start=1):\n",
    "        phrase = choice[\"message\"][\"content\"]\n",
    "        for ch in phrase:\n",
    "            if ch.isnumeric():\n",
    "                ekgList.append(ch)\n",
    "        print(choice[\"message\"][\"content\"])\n",
    "modeEKG = max(set(ekgList), key=ekgList.count)\n",
    "print(\"Mode EKG:\", modeEKG)"
   ]
  },
  {
   "cell_type": "markdown",
   "id": "fd76982e",
   "metadata": {},
   "source": [
    "### Mode Analysis for Age Subscore\n",
    "#### Repeated GPT Analysis of Note #1 for Age subscore 10 times. Then, display mode of Age subscore to ideally improve accuracy and precision of subscore.\n",
    "\n",
    "Based on the encounter note log below, how would you classify the patient's age: \n",
    "[<45 (0)] [45-64 (1)] [>= 65 (2)]  [Not enough information to determine Age score]\n",
    "\n",
    "Please provide your choice between the answers above in brackets (e.g. [<45 (0)] ). No Prose.\n"
   ]
  },
  {
   "cell_type": "code",
   "execution_count": null,
   "id": "b3c92e39",
   "metadata": {},
   "outputs": [
    {
     "name": "stdout",
     "output_type": "stream",
     "text": [
      "[>= 65 (2)]\n",
      "[>=65 (2)]\n",
      "[>= 65 (2)]\n",
      "[>=65 (2)]\n",
      "[>= 65 (2)]\n",
      "[>= 65 (2)]\n",
      "[>= 65 (2)]\n",
      "[>= 65 (2)]\n",
      "[>= 65 (2)]\n",
      "Mode Age: 2\n"
     ]
    }
   ],
   "source": [
    "ageList = []\n",
    "def isolateString(ch1,ch2,s):\n",
    "    return s[s.find(ch1)+1:s.find(ch2)]\n",
    "prompt = \"Based on the encounter note log below, how would you classify the patient's age: [<45 (0)] [45-64 (1)] [>= 65 (2)]  [Not enough information to determine Age score] Please provide your choice between the answers above in brackets (e.g. [<45 (0)] ). No Prose.\"\n",
    "for x in range(0, 9):\n",
    "    messages = [{\"role\": \"user\", \"content\": (prompt + file_contents)}]\n",
    "    response = openai.ChatCompletion.create(engine=deployment_name, messages=messages)\n",
    "    for i, choice in enumerate(response[\"choices\"], start=1):\n",
    "        phrase = choice[\"message\"][\"content\"]\n",
    "        ageList.append(isolateString(\"(\", \")\", phrase))\n",
    "        print(choice[\"message\"][\"content\"])\n",
    "modeAge = max(set(ageList), key=ageList.count)\n",
    "print(\"Mode Age:\", modeAge)"
   ]
  },
  {
   "cell_type": "markdown",
   "id": "1b2aafed",
   "metadata": {},
   "source": [
    "### Mode Analysis for Risk Factors Subscore\n",
    "#### Repeated GPT Analysis of Note #1 for Risk Factors subscore 10 times. Then, display mode of Risk Factors subscore to ideally improve accuracy and precision of subscore.\n",
    "\n",
    "Consider the following risk factors: HTN, hypercholesterolemia, DM, obesity (BMI >30 kg/m²), smoking (current, or smoking cessation ≤3 mo), positive family history (parent or sibling with CVD before age 65); atherosclerotic disease: prior MI, PCI/CABG, CVA/TIA, or peripheral arterial disease. \n",
    "\n",
    "For the patient below, across all the combined encounter notes, how many risk factors are present? \n",
    "[No known risk factors (0)] [1-2 risk factors (1)] [>= 3 risk factors or history of atherosclerotic disease (2)] [Not enough information to determine Risk Factor score (9)]\n",
    "\n",
    "Please provide your final choice, listing one option between the answers above in brackets (e.g. [No known risk factors (0)] ). No Prose.\n"
   ]
  },
  {
   "cell_type": "code",
   "execution_count": null,
   "id": "ceb23be5",
   "metadata": {},
   "outputs": [
    {
     "name": "stdout",
     "output_type": "stream",
     "text": [
      "[>= 3 risk factors or history of atherosclerotic disease (2)]\n",
      "[>= 3 risk factors or history of atherosclerotic disease (2)]\n",
      "[>= 3 risk factors or history of atherosclerotic disease (2)]\n",
      "[>= 3 risk factors or history of atherosclerotic disease (2)]\n",
      "[>= 3 risk factors or history of atherosclerotic disease (2)]\n",
      "[>= 3 risk factors or history of atherosclerotic disease (2)]\n",
      "[>= 3 risk factors or history of atherosclerotic disease (2)]\n",
      "[>= 3 risk factors or history of atherosclerotic disease (2)]\n",
      "[>= 3 risk factors or history of atherosclerotic disease (2)]\n",
      "Mode Risk: 3\n"
     ]
    }
   ],
   "source": [
    "riskList = []\n",
    "prompt = \"Consider the following risk factors: HTN, hypercholesterolemia, DM, obesity (BMI >30 kg/m²), smoking (current, or smoking cessation ≤3 mo), positive family history (parent or sibling with CVD before age 65); atherosclerotic disease: prior MI, PCI/CABG, CVA/TIA, or peripheral arterial disease. For the patient below, across all the combined encounter notes, how many risk factors are present? [No known risk factors (0)] [1-2 risk factors (1)] [>= 3 risk factors or history of atherosclerotic disease (2)] [Not enough information to determine Risk Factor score (9)] Please provide your final choice, listing one option between the answers above in brackets (e.g. [No known risk factors (0)] ). No Prose.\"\n",
    "for x in range(0, 9):\n",
    "    messages = [{\"role\": \"user\", \"content\": (prompt + file_contents)}]\n",
    "    response = openai.ChatCompletion.create(engine=deployment_name, messages=messages)\n",
    "    for i, choice in enumerate(response[\"choices\"], start=1):\n",
    "        phrase = choice[\"message\"][\"content\"]\n",
    "        for ch in phrase:\n",
    "            if ch.isnumeric():\n",
    "                riskList.append(ch)\n",
    "        print(choice[\"message\"][\"content\"])\n",
    "modeRisk = max(set(riskList), key=riskList.count)\n",
    "print(\"Mode Risk:\", modeRisk)"
   ]
  },
  {
   "cell_type": "markdown",
   "id": "57c96b20",
   "metadata": {},
   "source": [
    "### Mode Analysis for Troponins Subscore\n",
    "#### Repeated GPT Analysis of Note #1 for Troponins subscore 10 times. Then, display mode of Troponins subscore to ideally improve accuracy and precision of subscore.\n",
    "\n",
    "Find the troponin value in based on careful review of all of the encounter note logs provided below. Note that the troponins may be listed without a unit beside it. \n",
    "\n",
    "How would you categorize assessment of the patient's initial troponin measurement:[=< normal limit (0)] [1–3x normal limit (1)] [>3x normal limit (2)] [Not enough information to determine Troponin score (9)] \n",
    "\n",
    "The normal limit for high sensitivity troponin according to Yale New Haven Health is < 12 ng/L. \n",
    "\n",
    "Please provide your choice between the answers above in brackets (e.g. [=< normal limit (0)] ). No Prose.\n",
    "\n",
    "\n"
   ]
  },
  {
   "cell_type": "code",
   "execution_count": null,
   "id": "88a32d77",
   "metadata": {},
   "outputs": [
    {
     "name": "stdout",
     "output_type": "stream",
     "text": [
      "Troponin value: 124 [>3x normal limit (2)]\n",
      "\n",
      "Assessment of patient's initial troponin measurement: [>3x normal limit (2)]\n",
      "Troponin value: 124 [>3x normal limit (2)] \n",
      "\n",
      "Assessment of initial troponin measurement: >3x normal limit (2) \n",
      "\n",
      "Note: No other encounter note provides information about troponin levels.\n",
      "Troponin value: 124 [>3x normal limit (2)] \n",
      "\n",
      "Assessment of initial troponin measurement: >3x normal limit (2) \n",
      "\n",
      "Note: The encounter notes do not provide enough information to determine troponin values for the other visits.\n",
      "Troponin value: 124 [>3x normal limit (2)]\n",
      "Troponin value: [>3x normal limit (2)]\n",
      "\n",
      "Assessment of initial troponin measurement: [>3x normal limit (2)]\n",
      "Troponin score: [>3x normal limit (2)]\n",
      "\n",
      "Assessment of troponin measurement: The encounter notes state that the troponin level was \"markedly elevated\" with a value of 124. However, there is no unit given so it cannot be compared to the normal limit of <12 ng/L. Based on the available information, the highest possible value for a normal limit is 99 ng/L based on other normal ranges for high sensitivity troponin assays. Therefore, the troponin measurement is greater than 3 times the normal limit, with a score of [>3x normal limit (2)].\n",
      "Troponin score = [>3x normal limit (2)] \n",
      "\n",
      "Assessment of initial troponin measurement cannot be determined.\n",
      "Troponin score: [>3x normal limit (2)]\n",
      "\n",
      "Assessment of patient's initial troponin measurement: [>3x normal limit (2)] since the troponin level was noted to be 124, which is over 3 times the normal limit for high sensitivity troponin according to Yale New Haven Health (< 12 ng/L).\n",
      "Troponin value: 124. [>3x normal limit (2)]\n",
      "\n",
      "Assessment of initial troponin measurement: [>3x normal limit (2)]\n",
      "Mode Troponin: 2\n"
     ]
    }
   ],
   "source": [
    "tropList = []\n",
    "prompt = \"Find the troponin value based on careful review of all of the encounter note logs provided below. Note that the troponins may be listed without a unit beside it. How would you categorize assessment of the patient's initial troponin measurement:[=< normal limit (0)] [1–3x normal limit (1)] [>3x normal limit (2)] [Not enough information to determine Troponin score (9)] The normal limit for high sensitivity troponin according to Yale New Haven Health is < 12 ng/L. Please provide your choice between the answers above in brackets (e.g. [=< normal limit (0)] ). No Prose. \"\n",
    "for x in range(0, 9):\n",
    "    messages = [{\"role\": \"user\", \"content\": (prompt + file_contents)}]\n",
    "    response = openai.ChatCompletion.create(engine=deployment_name, messages=messages)\n",
    "    for i, choice in enumerate(response[\"choices\"], start=1):\n",
    "        phrase = choice[\"message\"][\"content\"]\n",
    "        tropList.append(isolateString(\"(\", \")\", phrase))\n",
    "        print(choice[\"message\"][\"content\"])\n",
    "modeTrop = max(set(tropList), key=tropList.count)\n",
    "print(\"Mode Troponin:\", modeTrop)"
   ]
  },
  {
   "cell_type": "markdown",
   "id": "7138d619",
   "metadata": {},
   "source": [
    "### Final HEART Score\n",
    "The final HEART Score after summing each of the individual mode analysis of the subscore prompts."
   ]
  },
  {
   "cell_type": "code",
   "execution_count": null,
   "id": "249f7984",
   "metadata": {},
   "outputs": [
    {
     "name": "stdout",
     "output_type": "stream",
     "text": [
      "Total Heart Score: 11\n"
     ]
    }
   ],
   "source": [
    "totalHeart = int(modeHistory) + int(modeEKG) + int(modeAge) + int(modeRisk) + int(modeTrop)\n",
    "print(\"Total Heart Score:\", totalHeart)\n",
    "# should be # 2 + 1 + 2 + 2 + 2 = 9?\n",
    "# hmm I got 2 + 2 + 2 + 3 + 2 = 11? \n",
    "# EKG and Risk Factors are different. \n",
    "\n"
   ]
  },
  {
   "cell_type": "code",
   "execution_count": null,
   "id": "740c5432",
   "metadata": {},
   "outputs": [],
   "source": []
  }
 ],
 "metadata": {
  "kernelspec": {
   "display_name": "Python 3 (ipykernel)",
   "language": "python",
   "name": "python3"
  },
  "language_info": {
   "codemirror_mode": {
    "name": "ipython",
    "version": 3
   },
   "file_extension": ".py",
   "mimetype": "text/x-python",
   "name": "python",
   "nbconvert_exporter": "python",
   "pygments_lexer": "ipython3",
   "version": "3.9.16"
  }
 },
 "nbformat": 4,
 "nbformat_minor": 5
}
