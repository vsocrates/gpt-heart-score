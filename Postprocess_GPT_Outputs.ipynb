{
 "cells": [
  {
   "cell_type": "code",
   "execution_count": 7,
   "metadata": {},
   "outputs": [],
   "source": [
    "import pandas as pd"
   ]
  },
  {
   "cell_type": "code",
   "execution_count": 8,
   "metadata": {},
   "outputs": [],
   "source": [
    "N = 5\n",
    "\n",
    "cpc_notes_processed = pd.read_csv(f\"/Users/vsocrates/Documents/Yale/Heart_Score/output/cpc_notes_with_gpt_input_{N}.csv\")\n",
    "history_df = pd.read_csv(f\"/Users/vsocrates/Documents/Yale/Heart_Score/output/history_sample_{N}.csv\")\n",
    "age_df = pd.read_csv(f\"/Users/vsocrates/Documents/Yale/Heart_Score/output/age_sample_{N}.csv\")\n",
    "ekg_df = pd.read_csv(f\"/Users/vsocrates/Documents/Yale/Heart_Score/output/ekg_sample_{N}.csv\")\n",
    "risks_df = pd.read_csv(f\"/Users/vsocrates/Documents/Yale/Heart_Score/output/risks_sample_{N}.csv\")\n",
    "troponin_df = pd.read_csv(f\"/Users/vsocrates/Documents/Yale/Heart_Score/output/troponin_sample_{N}.csv\")\n",
    "onepass_df = pd.read_csv(f\"/Users/vsocrates/Documents/Yale/Heart_Score/output/onepass_sample_{N}.csv\")\n"
   ]
  },
  {
   "cell_type": "code",
   "execution_count": 9,
   "metadata": {},
   "outputs": [],
   "source": [
    "\n",
    "def add_line_breaks(text):\n",
    "    return text.replace('\\n', '<br>')\n"
   ]
  },
  {
   "cell_type": "code",
   "execution_count": 10,
   "metadata": {},
   "outputs": [],
   "source": [
    "# cpc_notes_processed_html = cpc_notes_processed.to_html()\n",
    "# history_df_html = history_df.to_html()\n",
    "# ekg_df_html = ekg_df.to_html()\n",
    "# risks_df_html = risks_df.to_html()\n",
    "# onepass_df_html = onepass_df.to_html()\n",
    "\n",
    "# # write html to file\n",
    "# text_file = open(f\"/Users/vsocrates/Documents/Yale/Heart_Score/output/output_html/cpc_notes_with_gpt_input_2.html\", \"w\")\n",
    "# text_file.write(cpc_notes_processed_html)\n",
    "# text_file.close()\n",
    "\n",
    "# text_file = open(f\"/Users/vsocrates/Documents/Yale/Heart_Score/output/output_html/history_sample_2.html\", \"w\")\n",
    "# text_file.write(history_df_html)\n",
    "# text_file.close()\n",
    "\n",
    "# text_file = open(f\"/Users/vsocrates/Documents/Yale/Heart_Score/output/output_html/ekg_sample_2.html\", \"w\")\n",
    "# text_file.write(ekg_df_html)\n",
    "# text_file.close()\n",
    "\n",
    "# text_file = open(f\"/Users/vsocrates/Documents/Yale/Heart_Score/output/output_html/risks_sample_2.html\", \"w\")\n",
    "# text_file.write(risks_df_html)\n",
    "# text_file.close()\n",
    "\n",
    "# text_file = open(f\"/Users/vsocrates/Documents/Yale/Heart_Score/output/output_html/onepass_sample_2.html\", \"w\")\n",
    "# text_file.write(onepass_df_html)\n",
    "# text_file.close()\n",
    "\n"
   ]
  },
  {
   "cell_type": "code",
   "execution_count": 11,
   "metadata": {},
   "outputs": [],
   "source": [
    "\n",
    "cpc_notes_processed_styled = cpc_notes_processed.style.format({'completion_text': add_line_breaks})\n",
    "history_df_styled = history_df.style.format({'completion_text': add_line_breaks})\n",
    "age_df_styled = age_df.style.format({'completion_text': add_line_breaks})\n",
    "ekg_df_styled = ekg_df.style.format({'completion_text': add_line_breaks})\n",
    "risks_df_styled = risks_df.style.format({'completion_text': add_line_breaks})\n",
    "troponin_df_styled = troponin_df.style.format({'completion_text': add_line_breaks})\n",
    "onepass_df_styled = onepass_df.style.format({'completion_text': add_line_breaks})\n",
    "\n",
    "with open(f\"/Users/vsocrates/Documents/Yale/Heart_Score/output/output_html/cpc_notes_with_gpt_input_{N}.html\", \"w\") as file:\n",
    "    file.write(cpc_notes_processed_styled.to_html())\n",
    "\n",
    "with open(f\"/Users/vsocrates/Documents/Yale/Heart_Score/output/output_html/age_sample_{N}.html\", \"w\") as file:\n",
    "    file.write(age_df_styled.to_html())\n",
    "\n",
    "with open(f\"/Users/vsocrates/Documents/Yale/Heart_Score/output/output_html/history_sample_{N}.html\", \"w\") as file:\n",
    "    file.write(history_df_styled.to_html())\n",
    "\n",
    "with open(f\"/Users/vsocrates/Documents/Yale/Heart_Score/output/output_html/ekg_sample_{N}.html\", \"w\") as file:\n",
    "    file.write(ekg_df_styled.to_html())\n",
    "\n",
    "with open(f\"/Users/vsocrates/Documents/Yale/Heart_Score/output/output_html/risks_sample_{N}.html\", \"w\") as file:\n",
    "    file.write(risks_df_styled.to_html())\n",
    "\n",
    "with open(f\"/Users/vsocrates/Documents/Yale/Heart_Score/output/output_html/troponin_sample_{N}.html\", \"w\") as file:\n",
    "    file.write(troponin_df_styled.to_html())\n",
    "\n",
    "with open(f\"/Users/vsocrates/Documents/Yale/Heart_Score/output/output_html/onepass_sample_{N}.html\", \"w\") as file:\n",
    "    file.write(onepass_df_styled.to_html())\n",
    "\n"
   ]
  },
  {
   "cell_type": "code",
   "execution_count": 12,
   "metadata": {},
   "outputs": [],
   "source": [
    "import pandas as pd\n",
    "prompts = pd.read_csv(\"/Users/vsocrates/Documents/Yale/Heart_Score/prompt_iteration_for_GPT.csv\")\n",
    "\n",
    "system_role_prompt = prompts[prompts['Step'] == \"INSTRUCTIONAL_PHRASE\"]['Prompt'].squeeze()\n",
    "age_prompt = prompts[prompts['Step'] == \"Age\"]['Prompt'].squeeze()\n",
    "history_prompt = prompts[prompts['Step'] == \"History\"]['Prompt'].squeeze()\n",
    "ekg_prompt = prompts[prompts['Step'] == \"EKG\"]['Prompt'].squeeze()\n",
    "risks_prompt = prompts[prompts['Step'] == \"Risk_Factors\"]['Prompt'].squeeze()\n",
    "onepass_prompt = prompts[prompts['Step'] == \"OnePass_Prompt\"]['Prompt'].squeeze()\n"
   ]
  },
  {
   "cell_type": "code",
   "execution_count": 8,
   "metadata": {},
   "outputs": [
    {
     "name": "stdout",
     "output_type": "stream",
     "text": [
      "PROMPT:\n",
      "You will be given clinical encounter notes relevant to the patient's current visit below, delimited by triple quotes. Considering the patient's HPI, please determine the patient's age subscore (one component of the overall HEART score). \n",
      "If the age is <45, the correct score is [Age <45 (0)]\n",
      "If the age is 45-64, the correct score is [Age 45-64 (1)]\n",
      "If the age is 65 or older, the correct score is [Age >= 65 (2)]\n",
      "\n",
      "Use this format for your response: First explain your reasoning, then conclude with your answer in brackets, e.g., [Age <45 (0)]\n",
      "\n",
      "PATIENT ENCOUNTER NOTES:\n",
      "\"\"\"\"\"\"\n",
      "{CurrentNotes}\n",
      "\"\"\"\"\"\"\"\n"
     ]
    }
   ],
   "source": [
    "print(age_prompt)"
   ]
  },
  {
   "cell_type": "code",
   "execution_count": 1,
   "metadata": {},
   "outputs": [],
   "source": [
    "import pandas as pd"
   ]
  },
  {
   "cell_type": "code",
   "execution_count": 10,
   "metadata": {},
   "outputs": [],
   "source": [
    "test = pd.read_csv(f\"/Users/vsocrates/Documents/Yale/Heart_Score/NOTES_CPC_IDENTIFIED_postprocessed_6.csv\")"
   ]
  },
  {
   "cell_type": "code",
   "execution_count": 3,
   "metadata": {},
   "outputs": [],
   "source": [
    "dfs = []\n",
    "for x in range(5):\n",
    "    df = pd.read_csv(f\"/Users/vsocrates/Documents/Yale/Heart_Score/NOTES_CPC_IDENTIFIED_postprocessed_{x}.csv\")\n",
    "    dfs.append(df)"
   ]
  },
  {
   "cell_type": "code",
   "execution_count": 5,
   "metadata": {},
   "outputs": [],
   "source": [
    "full_df = pd.concat(dfs)"
   ]
  },
  {
   "cell_type": "code",
   "execution_count": 12,
   "metadata": {},
   "outputs": [],
   "source": [
    "full_df.to_csv(\"/Users/vsocrates/Documents/Yale/Heart_Score/NOTES_CPC_IDENTIFIED_postprocessed_999.csv\", index=False)"
   ]
  },
  {
   "cell_type": "code",
   "execution_count": null,
   "metadata": {},
   "outputs": [],
   "source": []
  }
 ],
 "metadata": {
  "kernelspec": {
   "display_name": "openai",
   "language": "python",
   "name": "python3"
  },
  "language_info": {
   "codemirror_mode": {
    "name": "ipython",
    "version": 3
   },
   "file_extension": ".py",
   "mimetype": "text/x-python",
   "name": "python",
   "nbconvert_exporter": "python",
   "pygments_lexer": "ipython3",
   "version": "3.9.16"
  }
 },
 "nbformat": 4,
 "nbformat_minor": 2
}
